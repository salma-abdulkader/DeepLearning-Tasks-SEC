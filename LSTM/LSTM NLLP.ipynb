{
 "cells": [
  {
   "cell_type": "code",
   "execution_count": 1,
   "metadata": {
    "execution": {
     "iopub.execute_input": "2024-12-04T09:38:49.616353Z",
     "iopub.status.busy": "2024-12-04T09:38:49.616042Z",
     "iopub.status.idle": "2024-12-04T09:39:02.746942Z",
     "shell.execute_reply": "2024-12-04T09:39:02.746037Z",
     "shell.execute_reply.started": "2024-12-04T09:38:49.616323Z"
    },
    "trusted": true
   },
   "outputs": [
    {
     "name": "stdout",
     "output_type": "stream",
     "text": [
      "[nltk_data] Downloading package punkt to /usr/share/nltk_data...\n",
      "[nltk_data]   Package punkt is already up-to-date!\n",
      "[nltk_data] Downloading package stopwords to /usr/share/nltk_data...\n",
      "[nltk_data]   Package stopwords is already up-to-date!\n",
      "[nltk_data] Downloading package wordnet to /usr/share/nltk_data...\n",
      "[nltk_data]   Package wordnet is already up-to-date!\n"
     ]
    }
   ],
   "source": [
    "from pathlib import Path\n",
    "import os\n",
    "import re\n",
    "import html\n",
    "import string\n",
    "\n",
    "import unicodedata\n",
    "\n",
    "\n",
    "import nltk\n",
    "nltk.download('punkt')\n",
    "from nltk.corpus import stopwords\n",
    "nltk.download('stopwords')\n",
    "nltk.download('wordnet')\n",
    "from nltk.stem import PorterStemmer\n",
    "from nltk.tokenize import word_tokenize, sent_tokenize\n",
    "from nltk.stem import WordNetLemmatizer\n",
    "\n",
    "from tensorflow.keras.preprocessing.text import text_to_word_sequence\n",
    "from tensorflow.keras.preprocessing.text import Tokenizer\n",
    "from tensorflow.keras.preprocessing.sequence import pad_sequences\n",
    "from tensorflow.keras import models\n",
    "from tensorflow.keras import layers\n",
    "from tensorflow.keras import losses\n",
    "from tensorflow.keras import metrics\n",
    "from tensorflow.keras import optimizers\n",
    "from tensorflow.keras.callbacks import EarlyStopping\n",
    "import pandas as pd\n",
    "import matplotlib.pyplot as plt\n",
    "import seaborn as sns\n",
    "import numpy as np"
   ]
  },
  {
   "cell_type": "code",
   "execution_count": 2,
   "metadata": {
    "execution": {
     "iopub.execute_input": "2024-12-04T09:39:09.064402Z",
     "iopub.status.busy": "2024-12-04T09:39:09.063852Z",
     "iopub.status.idle": "2024-12-04T09:39:13.175172Z",
     "shell.execute_reply": "2024-12-04T09:39:13.174483Z",
     "shell.execute_reply.started": "2024-12-04T09:39:09.064365Z"
    },
    "trusted": true
   },
   "outputs": [],
   "source": [
    "data=pd.read_csv(\"/kaggle/input/amazon-reviews/test.csv\",header=None)"
   ]
  },
  {
   "cell_type": "code",
   "execution_count": 3,
   "metadata": {
    "execution": {
     "iopub.execute_input": "2024-12-04T09:39:14.335877Z",
     "iopub.status.busy": "2024-12-04T09:39:14.335049Z",
     "iopub.status.idle": "2024-12-04T09:39:14.353633Z",
     "shell.execute_reply": "2024-12-04T09:39:14.352758Z",
     "shell.execute_reply.started": "2024-12-04T09:39:14.335840Z"
    },
    "trusted": true
   },
   "outputs": [
    {
     "data": {
      "text/html": [
       "<div>\n",
       "<style scoped>\n",
       "    .dataframe tbody tr th:only-of-type {\n",
       "        vertical-align: middle;\n",
       "    }\n",
       "\n",
       "    .dataframe tbody tr th {\n",
       "        vertical-align: top;\n",
       "    }\n",
       "\n",
       "    .dataframe thead th {\n",
       "        text-align: right;\n",
       "    }\n",
       "</style>\n",
       "<table border=\"1\" class=\"dataframe\">\n",
       "  <thead>\n",
       "    <tr style=\"text-align: right;\">\n",
       "      <th></th>\n",
       "      <th>0</th>\n",
       "      <th>1</th>\n",
       "      <th>2</th>\n",
       "    </tr>\n",
       "  </thead>\n",
       "  <tbody>\n",
       "    <tr>\n",
       "      <th>0</th>\n",
       "      <td>2</td>\n",
       "      <td>Great CD</td>\n",
       "      <td>My lovely Pat has one of the GREAT voices of h...</td>\n",
       "    </tr>\n",
       "    <tr>\n",
       "      <th>1</th>\n",
       "      <td>2</td>\n",
       "      <td>One of the best game music soundtracks - for a...</td>\n",
       "      <td>Despite the fact that I have only played a sma...</td>\n",
       "    </tr>\n",
       "    <tr>\n",
       "      <th>2</th>\n",
       "      <td>1</td>\n",
       "      <td>Batteries died within a year ...</td>\n",
       "      <td>I bought this charger in Jul 2003 and it worke...</td>\n",
       "    </tr>\n",
       "    <tr>\n",
       "      <th>3</th>\n",
       "      <td>2</td>\n",
       "      <td>works fine, but Maha Energy is better</td>\n",
       "      <td>Check out Maha Energy's website. Their Powerex...</td>\n",
       "    </tr>\n",
       "    <tr>\n",
       "      <th>4</th>\n",
       "      <td>2</td>\n",
       "      <td>Great for the non-audiophile</td>\n",
       "      <td>Reviewed quite a bit of the combo players and ...</td>\n",
       "    </tr>\n",
       "  </tbody>\n",
       "</table>\n",
       "</div>"
      ],
      "text/plain": [
       "   0                                                  1  \\\n",
       "0  2                                           Great CD   \n",
       "1  2  One of the best game music soundtracks - for a...   \n",
       "2  1                   Batteries died within a year ...   \n",
       "3  2              works fine, but Maha Energy is better   \n",
       "4  2                       Great for the non-audiophile   \n",
       "\n",
       "                                                   2  \n",
       "0  My lovely Pat has one of the GREAT voices of h...  \n",
       "1  Despite the fact that I have only played a sma...  \n",
       "2  I bought this charger in Jul 2003 and it worke...  \n",
       "3  Check out Maha Energy's website. Their Powerex...  \n",
       "4  Reviewed quite a bit of the combo players and ...  "
      ]
     },
     "execution_count": 3,
     "metadata": {},
     "output_type": "execute_result"
    }
   ],
   "source": [
    "data.head()"
   ]
  },
  {
   "cell_type": "code",
   "execution_count": 4,
   "metadata": {
    "execution": {
     "iopub.execute_input": "2024-12-04T09:39:16.814796Z",
     "iopub.status.busy": "2024-12-04T09:39:16.814447Z",
     "iopub.status.idle": "2024-12-04T09:39:16.819110Z",
     "shell.execute_reply": "2024-12-04T09:39:16.818203Z",
     "shell.execute_reply.started": "2024-12-04T09:39:16.814764Z"
    },
    "trusted": true
   },
   "outputs": [],
   "source": [
    "data.columns=['polarity','title','text']"
   ]
  },
  {
   "cell_type": "code",
   "execution_count": 5,
   "metadata": {
    "execution": {
     "iopub.execute_input": "2024-12-04T09:39:19.433017Z",
     "iopub.status.busy": "2024-12-04T09:39:19.432678Z",
     "iopub.status.idle": "2024-12-04T09:39:19.442514Z",
     "shell.execute_reply": "2024-12-04T09:39:19.441565Z",
     "shell.execute_reply.started": "2024-12-04T09:39:19.432985Z"
    },
    "trusted": true
   },
   "outputs": [
    {
     "data": {
      "text/html": [
       "<div>\n",
       "<style scoped>\n",
       "    .dataframe tbody tr th:only-of-type {\n",
       "        vertical-align: middle;\n",
       "    }\n",
       "\n",
       "    .dataframe tbody tr th {\n",
       "        vertical-align: top;\n",
       "    }\n",
       "\n",
       "    .dataframe thead th {\n",
       "        text-align: right;\n",
       "    }\n",
       "</style>\n",
       "<table border=\"1\" class=\"dataframe\">\n",
       "  <thead>\n",
       "    <tr style=\"text-align: right;\">\n",
       "      <th></th>\n",
       "      <th>polarity</th>\n",
       "      <th>title</th>\n",
       "      <th>text</th>\n",
       "    </tr>\n",
       "  </thead>\n",
       "  <tbody>\n",
       "    <tr>\n",
       "      <th>0</th>\n",
       "      <td>2</td>\n",
       "      <td>Great CD</td>\n",
       "      <td>My lovely Pat has one of the GREAT voices of h...</td>\n",
       "    </tr>\n",
       "    <tr>\n",
       "      <th>1</th>\n",
       "      <td>2</td>\n",
       "      <td>One of the best game music soundtracks - for a...</td>\n",
       "      <td>Despite the fact that I have only played a sma...</td>\n",
       "    </tr>\n",
       "    <tr>\n",
       "      <th>2</th>\n",
       "      <td>1</td>\n",
       "      <td>Batteries died within a year ...</td>\n",
       "      <td>I bought this charger in Jul 2003 and it worke...</td>\n",
       "    </tr>\n",
       "    <tr>\n",
       "      <th>3</th>\n",
       "      <td>2</td>\n",
       "      <td>works fine, but Maha Energy is better</td>\n",
       "      <td>Check out Maha Energy's website. Their Powerex...</td>\n",
       "    </tr>\n",
       "    <tr>\n",
       "      <th>4</th>\n",
       "      <td>2</td>\n",
       "      <td>Great for the non-audiophile</td>\n",
       "      <td>Reviewed quite a bit of the combo players and ...</td>\n",
       "    </tr>\n",
       "  </tbody>\n",
       "</table>\n",
       "</div>"
      ],
      "text/plain": [
       "   polarity                                              title  \\\n",
       "0         2                                           Great CD   \n",
       "1         2  One of the best game music soundtracks - for a...   \n",
       "2         1                   Batteries died within a year ...   \n",
       "3         2              works fine, but Maha Energy is better   \n",
       "4         2                       Great for the non-audiophile   \n",
       "\n",
       "                                                text  \n",
       "0  My lovely Pat has one of the GREAT voices of h...  \n",
       "1  Despite the fact that I have only played a sma...  \n",
       "2  I bought this charger in Jul 2003 and it worke...  \n",
       "3  Check out Maha Energy's website. Their Powerex...  \n",
       "4  Reviewed quite a bit of the combo players and ...  "
      ]
     },
     "execution_count": 5,
     "metadata": {},
     "output_type": "execute_result"
    }
   ],
   "source": [
    "data.head()"
   ]
  },
  {
   "cell_type": "code",
   "execution_count": 6,
   "metadata": {
    "execution": {
     "iopub.execute_input": "2024-12-04T09:39:21.822419Z",
     "iopub.status.busy": "2024-12-04T09:39:21.822042Z",
     "iopub.status.idle": "2024-12-04T09:39:21.828387Z",
     "shell.execute_reply": "2024-12-04T09:39:21.827354Z",
     "shell.execute_reply.started": "2024-12-04T09:39:21.822384Z"
    },
    "trusted": true
   },
   "outputs": [
    {
     "data": {
      "text/plain": [
       "(400000, 3)"
      ]
     },
     "execution_count": 6,
     "metadata": {},
     "output_type": "execute_result"
    }
   ],
   "source": [
    "data.shape"
   ]
  },
  {
   "cell_type": "code",
   "execution_count": 7,
   "metadata": {
    "execution": {
     "iopub.execute_input": "2024-12-04T09:39:23.887657Z",
     "iopub.status.busy": "2024-12-04T09:39:23.887286Z",
     "iopub.status.idle": "2024-12-04T09:39:24.283193Z",
     "shell.execute_reply": "2024-12-04T09:39:24.282363Z",
     "shell.execute_reply.started": "2024-12-04T09:39:23.887626Z"
    },
    "trusted": true
   },
   "outputs": [
    {
     "data": {
      "text/html": [
       "<div>\n",
       "<style scoped>\n",
       "    .dataframe tbody tr th:only-of-type {\n",
       "        vertical-align: middle;\n",
       "    }\n",
       "\n",
       "    .dataframe tbody tr th {\n",
       "        vertical-align: top;\n",
       "    }\n",
       "\n",
       "    .dataframe thead th {\n",
       "        text-align: right;\n",
       "    }\n",
       "</style>\n",
       "<table border=\"1\" class=\"dataframe\">\n",
       "  <thead>\n",
       "    <tr style=\"text-align: right;\">\n",
       "      <th></th>\n",
       "      <th>polarity</th>\n",
       "      <th>title</th>\n",
       "      <th>text</th>\n",
       "      <th>review</th>\n",
       "    </tr>\n",
       "  </thead>\n",
       "  <tbody>\n",
       "    <tr>\n",
       "      <th>0</th>\n",
       "      <td>2</td>\n",
       "      <td>Great CD</td>\n",
       "      <td>My lovely Pat has one of the GREAT voices of h...</td>\n",
       "      <td>Great CD My lovely Pat has one of the GREAT vo...</td>\n",
       "    </tr>\n",
       "    <tr>\n",
       "      <th>1</th>\n",
       "      <td>2</td>\n",
       "      <td>One of the best game music soundtracks - for a...</td>\n",
       "      <td>Despite the fact that I have only played a sma...</td>\n",
       "      <td>One of the best game music soundtracks - for a...</td>\n",
       "    </tr>\n",
       "    <tr>\n",
       "      <th>2</th>\n",
       "      <td>1</td>\n",
       "      <td>Batteries died within a year ...</td>\n",
       "      <td>I bought this charger in Jul 2003 and it worke...</td>\n",
       "      <td>Batteries died within a year ... I bought this...</td>\n",
       "    </tr>\n",
       "    <tr>\n",
       "      <th>3</th>\n",
       "      <td>2</td>\n",
       "      <td>works fine, but Maha Energy is better</td>\n",
       "      <td>Check out Maha Energy's website. Their Powerex...</td>\n",
       "      <td>works fine, but Maha Energy is better Check ou...</td>\n",
       "    </tr>\n",
       "    <tr>\n",
       "      <th>4</th>\n",
       "      <td>2</td>\n",
       "      <td>Great for the non-audiophile</td>\n",
       "      <td>Reviewed quite a bit of the combo players and ...</td>\n",
       "      <td>Great for the non-audiophile Reviewed quite a ...</td>\n",
       "    </tr>\n",
       "  </tbody>\n",
       "</table>\n",
       "</div>"
      ],
      "text/plain": [
       "   polarity                                              title  \\\n",
       "0         2                                           Great CD   \n",
       "1         2  One of the best game music soundtracks - for a...   \n",
       "2         1                   Batteries died within a year ...   \n",
       "3         2              works fine, but Maha Energy is better   \n",
       "4         2                       Great for the non-audiophile   \n",
       "\n",
       "                                                text  \\\n",
       "0  My lovely Pat has one of the GREAT voices of h...   \n",
       "1  Despite the fact that I have only played a sma...   \n",
       "2  I bought this charger in Jul 2003 and it worke...   \n",
       "3  Check out Maha Energy's website. Their Powerex...   \n",
       "4  Reviewed quite a bit of the combo players and ...   \n",
       "\n",
       "                                              review  \n",
       "0  Great CD My lovely Pat has one of the GREAT vo...  \n",
       "1  One of the best game music soundtracks - for a...  \n",
       "2  Batteries died within a year ... I bought this...  \n",
       "3  works fine, but Maha Energy is better Check ou...  \n",
       "4  Great for the non-audiophile Reviewed quite a ...  "
      ]
     },
     "execution_count": 7,
     "metadata": {},
     "output_type": "execute_result"
    }
   ],
   "source": [
    "data['review']=data['title']+\" \"+data['text']\n",
    "data.head()"
   ]
  },
  {
   "cell_type": "code",
   "execution_count": 8,
   "metadata": {
    "execution": {
     "iopub.execute_input": "2024-12-04T09:39:27.378143Z",
     "iopub.status.busy": "2024-12-04T09:39:27.377707Z",
     "iopub.status.idle": "2024-12-04T09:39:27.396972Z",
     "shell.execute_reply": "2024-12-04T09:39:27.396111Z",
     "shell.execute_reply.started": "2024-12-04T09:39:27.378092Z"
    },
    "trusted": true
   },
   "outputs": [
    {
     "data": {
      "text/html": [
       "<div>\n",
       "<style scoped>\n",
       "    .dataframe tbody tr th:only-of-type {\n",
       "        vertical-align: middle;\n",
       "    }\n",
       "\n",
       "    .dataframe tbody tr th {\n",
       "        vertical-align: top;\n",
       "    }\n",
       "\n",
       "    .dataframe thead th {\n",
       "        text-align: right;\n",
       "    }\n",
       "</style>\n",
       "<table border=\"1\" class=\"dataframe\">\n",
       "  <thead>\n",
       "    <tr style=\"text-align: right;\">\n",
       "      <th></th>\n",
       "      <th>polarity</th>\n",
       "      <th>title</th>\n",
       "      <th>text</th>\n",
       "      <th>review</th>\n",
       "    </tr>\n",
       "  </thead>\n",
       "  <tbody>\n",
       "    <tr>\n",
       "      <th>0</th>\n",
       "      <td>1</td>\n",
       "      <td>Great CD</td>\n",
       "      <td>My lovely Pat has one of the GREAT voices of h...</td>\n",
       "      <td>Great CD My lovely Pat has one of the GREAT vo...</td>\n",
       "    </tr>\n",
       "    <tr>\n",
       "      <th>1</th>\n",
       "      <td>1</td>\n",
       "      <td>One of the best game music soundtracks - for a...</td>\n",
       "      <td>Despite the fact that I have only played a sma...</td>\n",
       "      <td>One of the best game music soundtracks - for a...</td>\n",
       "    </tr>\n",
       "    <tr>\n",
       "      <th>2</th>\n",
       "      <td>0</td>\n",
       "      <td>Batteries died within a year ...</td>\n",
       "      <td>I bought this charger in Jul 2003 and it worke...</td>\n",
       "      <td>Batteries died within a year ... I bought this...</td>\n",
       "    </tr>\n",
       "    <tr>\n",
       "      <th>3</th>\n",
       "      <td>1</td>\n",
       "      <td>works fine, but Maha Energy is better</td>\n",
       "      <td>Check out Maha Energy's website. Their Powerex...</td>\n",
       "      <td>works fine, but Maha Energy is better Check ou...</td>\n",
       "    </tr>\n",
       "    <tr>\n",
       "      <th>4</th>\n",
       "      <td>1</td>\n",
       "      <td>Great for the non-audiophile</td>\n",
       "      <td>Reviewed quite a bit of the combo players and ...</td>\n",
       "      <td>Great for the non-audiophile Reviewed quite a ...</td>\n",
       "    </tr>\n",
       "  </tbody>\n",
       "</table>\n",
       "</div>"
      ],
      "text/plain": [
       "   polarity                                              title  \\\n",
       "0         1                                           Great CD   \n",
       "1         1  One of the best game music soundtracks - for a...   \n",
       "2         0                   Batteries died within a year ...   \n",
       "3         1              works fine, but Maha Energy is better   \n",
       "4         1                       Great for the non-audiophile   \n",
       "\n",
       "                                                text  \\\n",
       "0  My lovely Pat has one of the GREAT voices of h...   \n",
       "1  Despite the fact that I have only played a sma...   \n",
       "2  I bought this charger in Jul 2003 and it worke...   \n",
       "3  Check out Maha Energy's website. Their Powerex...   \n",
       "4  Reviewed quite a bit of the combo players and ...   \n",
       "\n",
       "                                              review  \n",
       "0  Great CD My lovely Pat has one of the GREAT vo...  \n",
       "1  One of the best game music soundtracks - for a...  \n",
       "2  Batteries died within a year ... I bought this...  \n",
       "3  works fine, but Maha Energy is better Check ou...  \n",
       "4  Great for the non-audiophile Reviewed quite a ...  "
      ]
     },
     "execution_count": 8,
     "metadata": {},
     "output_type": "execute_result"
    }
   ],
   "source": [
    "data['polarity']=data['polarity'].replace({2:1,1:0})\n",
    "data.head()"
   ]
  },
  {
   "cell_type": "code",
   "execution_count": 9,
   "metadata": {
    "execution": {
     "iopub.execute_input": "2024-12-04T09:39:38.595947Z",
     "iopub.status.busy": "2024-12-04T09:39:38.595624Z",
     "iopub.status.idle": "2024-12-04T09:39:38.604537Z",
     "shell.execute_reply": "2024-12-04T09:39:38.603816Z",
     "shell.execute_reply.started": "2024-12-04T09:39:38.595916Z"
    },
    "trusted": true
   },
   "outputs": [],
   "source": [
    "from tqdm import tqdm\n",
    "tqdm.pandas()"
   ]
  },
  {
   "cell_type": "code",
   "execution_count": 10,
   "metadata": {
    "execution": {
     "iopub.execute_input": "2024-12-04T09:39:56.991103Z",
     "iopub.status.busy": "2024-12-04T09:39:56.990769Z",
     "iopub.status.idle": "2024-12-04T09:42:22.242875Z",
     "shell.execute_reply": "2024-12-04T09:42:22.241908Z",
     "shell.execute_reply.started": "2024-12-04T09:39:56.991071Z"
    },
    "trusted": true
   },
   "outputs": [
    {
     "name": "stderr",
     "output_type": "stream",
     "text": [
      "/opt/conda/lib/python3.10/pty.py:89: RuntimeWarning: os.fork() was called. os.fork() is incompatible with multithreaded code, and JAX is multithreaded, so this will likely lead to a deadlock.\n",
      "  pid, fd = os.forkpty()\n"
     ]
    },
    {
     "name": "stdout",
     "output_type": "stream",
     "text": [
      "Requirement already satisfied: emoji in /opt/conda/lib/python3.10/site-packages (2.14.0)\n"
     ]
    },
    {
     "name": "stderr",
     "output_type": "stream",
     "text": [
      "100%|██████████| 400000/400000 [02:15<00:00, 2943.63it/s]\n"
     ]
    },
    {
     "data": {
      "text/html": [
       "<div>\n",
       "<style scoped>\n",
       "    .dataframe tbody tr th:only-of-type {\n",
       "        vertical-align: middle;\n",
       "    }\n",
       "\n",
       "    .dataframe tbody tr th {\n",
       "        vertical-align: top;\n",
       "    }\n",
       "\n",
       "    .dataframe thead th {\n",
       "        text-align: right;\n",
       "    }\n",
       "</style>\n",
       "<table border=\"1\" class=\"dataframe\">\n",
       "  <thead>\n",
       "    <tr style=\"text-align: right;\">\n",
       "      <th></th>\n",
       "      <th>polarity</th>\n",
       "      <th>title</th>\n",
       "      <th>text</th>\n",
       "      <th>review</th>\n",
       "      <th>clean_review</th>\n",
       "    </tr>\n",
       "  </thead>\n",
       "  <tbody>\n",
       "    <tr>\n",
       "      <th>0</th>\n",
       "      <td>1</td>\n",
       "      <td>Great CD</td>\n",
       "      <td>My lovely Pat has one of the GREAT voices of h...</td>\n",
       "      <td>Great CD My lovely Pat has one of the GREAT vo...</td>\n",
       "      <td>Great CD My lovely Pat has one of the GREAT vo...</td>\n",
       "    </tr>\n",
       "    <tr>\n",
       "      <th>1</th>\n",
       "      <td>1</td>\n",
       "      <td>One of the best game music soundtracks - for a...</td>\n",
       "      <td>Despite the fact that I have only played a sma...</td>\n",
       "      <td>One of the best game music soundtracks - for a...</td>\n",
       "      <td>One of the best game music soundtracks - for a...</td>\n",
       "    </tr>\n",
       "    <tr>\n",
       "      <th>2</th>\n",
       "      <td>0</td>\n",
       "      <td>Batteries died within a year ...</td>\n",
       "      <td>I bought this charger in Jul 2003 and it worke...</td>\n",
       "      <td>Batteries died within a year ... I bought this...</td>\n",
       "      <td>Batteries died within a year ... I bought this...</td>\n",
       "    </tr>\n",
       "    <tr>\n",
       "      <th>3</th>\n",
       "      <td>1</td>\n",
       "      <td>works fine, but Maha Energy is better</td>\n",
       "      <td>Check out Maha Energy's website. Their Powerex...</td>\n",
       "      <td>works fine, but Maha Energy is better Check ou...</td>\n",
       "      <td>works fine, but Maha Energy is better Check ou...</td>\n",
       "    </tr>\n",
       "    <tr>\n",
       "      <th>4</th>\n",
       "      <td>1</td>\n",
       "      <td>Great for the non-audiophile</td>\n",
       "      <td>Reviewed quite a bit of the combo players and ...</td>\n",
       "      <td>Great for the non-audiophile Reviewed quite a ...</td>\n",
       "      <td>Great for the non-audiophile Reviewed quite a ...</td>\n",
       "    </tr>\n",
       "  </tbody>\n",
       "</table>\n",
       "</div>"
      ],
      "text/plain": [
       "   polarity                                              title  \\\n",
       "0         1                                           Great CD   \n",
       "1         1  One of the best game music soundtracks - for a...   \n",
       "2         0                   Batteries died within a year ...   \n",
       "3         1              works fine, but Maha Energy is better   \n",
       "4         1                       Great for the non-audiophile   \n",
       "\n",
       "                                                text  \\\n",
       "0  My lovely Pat has one of the GREAT voices of h...   \n",
       "1  Despite the fact that I have only played a sma...   \n",
       "2  I bought this charger in Jul 2003 and it worke...   \n",
       "3  Check out Maha Energy's website. Their Powerex...   \n",
       "4  Reviewed quite a bit of the combo players and ...   \n",
       "\n",
       "                                              review  \\\n",
       "0  Great CD My lovely Pat has one of the GREAT vo...   \n",
       "1  One of the best game music soundtracks - for a...   \n",
       "2  Batteries died within a year ... I bought this...   \n",
       "3  works fine, but Maha Energy is better Check ou...   \n",
       "4  Great for the non-audiophile Reviewed quite a ...   \n",
       "\n",
       "                                        clean_review  \n",
       "0  Great CD My lovely Pat has one of the GREAT vo...  \n",
       "1  One of the best game music soundtracks - for a...  \n",
       "2  Batteries died within a year ... I bought this...  \n",
       "3  works fine, but Maha Energy is better Check ou...  \n",
       "4  Great for the non-audiophile Reviewed quite a ...  "
      ]
     },
     "execution_count": 10,
     "metadata": {},
     "output_type": "execute_result"
    }
   ],
   "source": [
    "!pip install emoji\n",
    "import emoji\n",
    "# data['clean_review'] = data['review'].progress_apply(lambda x: emoji.demojize(x))\n",
    "# data.head()\n",
    "def demojize_safe(text):\n",
    "    if isinstance(text, str):  # تحقق إذا كانت القيمة نصية\n",
    "        return emoji.demojize(text)\n",
    "    else:\n",
    "        return \"\" \n",
    "data['review'] = data['review'].fillna('') \n",
    "data['clean_review'] = data['review'].progress_apply(demojize_safe)\n",
    "data.head()"
   ]
  },
  {
   "cell_type": "code",
   "execution_count": 11,
   "metadata": {
    "execution": {
     "iopub.execute_input": "2024-12-04T09:43:49.960485Z",
     "iopub.status.busy": "2024-12-04T09:43:49.959662Z",
     "iopub.status.idle": "2024-12-04T09:43:53.660012Z",
     "shell.execute_reply": "2024-12-04T09:43:53.659190Z",
     "shell.execute_reply.started": "2024-12-04T09:43:49.960450Z"
    },
    "trusted": true
   },
   "outputs": [
    {
     "name": "stderr",
     "output_type": "stream",
     "text": [
      "100%|██████████| 400000/400000 [00:03<00:00, 108960.42it/s]\n"
     ]
    },
    {
     "data": {
      "text/html": [
       "<div>\n",
       "<style scoped>\n",
       "    .dataframe tbody tr th:only-of-type {\n",
       "        vertical-align: middle;\n",
       "    }\n",
       "\n",
       "    .dataframe tbody tr th {\n",
       "        vertical-align: top;\n",
       "    }\n",
       "\n",
       "    .dataframe thead th {\n",
       "        text-align: right;\n",
       "    }\n",
       "</style>\n",
       "<table border=\"1\" class=\"dataframe\">\n",
       "  <thead>\n",
       "    <tr style=\"text-align: right;\">\n",
       "      <th></th>\n",
       "      <th>polarity</th>\n",
       "      <th>title</th>\n",
       "      <th>text</th>\n",
       "      <th>review</th>\n",
       "      <th>clean_review</th>\n",
       "    </tr>\n",
       "  </thead>\n",
       "  <tbody>\n",
       "    <tr>\n",
       "      <th>0</th>\n",
       "      <td>1</td>\n",
       "      <td>Great CD</td>\n",
       "      <td>My lovely Pat has one of the GREAT voices of h...</td>\n",
       "      <td>Great CD My lovely Pat has one of the GREAT vo...</td>\n",
       "      <td>Great CD My lovely Pat has one of the GREAT vo...</td>\n",
       "    </tr>\n",
       "    <tr>\n",
       "      <th>1</th>\n",
       "      <td>1</td>\n",
       "      <td>One of the best game music soundtracks - for a...</td>\n",
       "      <td>Despite the fact that I have only played a sma...</td>\n",
       "      <td>One of the best game music soundtracks - for a...</td>\n",
       "      <td>One of the best game music soundtracks - for a...</td>\n",
       "    </tr>\n",
       "    <tr>\n",
       "      <th>2</th>\n",
       "      <td>0</td>\n",
       "      <td>Batteries died within a year ...</td>\n",
       "      <td>I bought this charger in Jul 2003 and it worke...</td>\n",
       "      <td>Batteries died within a year ... I bought this...</td>\n",
       "      <td>Batteries died within a year ... I bought this...</td>\n",
       "    </tr>\n",
       "    <tr>\n",
       "      <th>3</th>\n",
       "      <td>1</td>\n",
       "      <td>works fine, but Maha Energy is better</td>\n",
       "      <td>Check out Maha Energy's website. Their Powerex...</td>\n",
       "      <td>works fine, but Maha Energy is better Check ou...</td>\n",
       "      <td>works fine, but Maha Energy is better Check ou...</td>\n",
       "    </tr>\n",
       "    <tr>\n",
       "      <th>4</th>\n",
       "      <td>1</td>\n",
       "      <td>Great for the non-audiophile</td>\n",
       "      <td>Reviewed quite a bit of the combo players and ...</td>\n",
       "      <td>Great for the non-audiophile Reviewed quite a ...</td>\n",
       "      <td>Great for the non-audiophile Reviewed quite a ...</td>\n",
       "    </tr>\n",
       "  </tbody>\n",
       "</table>\n",
       "</div>"
      ],
      "text/plain": [
       "   polarity                                              title  \\\n",
       "0         1                                           Great CD   \n",
       "1         1  One of the best game music soundtracks - for a...   \n",
       "2         0                   Batteries died within a year ...   \n",
       "3         1              works fine, but Maha Energy is better   \n",
       "4         1                       Great for the non-audiophile   \n",
       "\n",
       "                                                text  \\\n",
       "0  My lovely Pat has one of the GREAT voices of h...   \n",
       "1  Despite the fact that I have only played a sma...   \n",
       "2  I bought this charger in Jul 2003 and it worke...   \n",
       "3  Check out Maha Energy's website. Their Powerex...   \n",
       "4  Reviewed quite a bit of the combo players and ...   \n",
       "\n",
       "                                              review  \\\n",
       "0  Great CD My lovely Pat has one of the GREAT vo...   \n",
       "1  One of the best game music soundtracks - for a...   \n",
       "2  Batteries died within a year ... I bought this...   \n",
       "3  works fine, but Maha Energy is better Check ou...   \n",
       "4  Great for the non-audiophile Reviewed quite a ...   \n",
       "\n",
       "                                        clean_review  \n",
       "0  Great CD My lovely Pat has one of the GREAT vo...  \n",
       "1  One of the best game music soundtracks - for a...  \n",
       "2  Batteries died within a year ... I bought this...  \n",
       "3  works fine, but Maha Energy is better Check ou...  \n",
       "4  Great for the non-audiophile Reviewed quite a ...  "
      ]
     },
     "execution_count": 11,
     "metadata": {},
     "output_type": "execute_result"
    }
   ],
   "source": [
    "def remove_digits(data):\n",
    "    return re.sub(r'\\d+', '', data)\n",
    "    \n",
    "data['clean_review'] = data['clean_review'].progress_apply(lambda x: remove_digits(x))\n",
    "data.head()"
   ]
  },
  {
   "cell_type": "code",
   "execution_count": 12,
   "metadata": {
    "execution": {
     "iopub.execute_input": "2024-12-04T09:44:25.023498Z",
     "iopub.status.busy": "2024-12-04T09:44:25.022812Z",
     "iopub.status.idle": "2024-12-04T09:44:25.028465Z",
     "shell.execute_reply": "2024-12-04T09:44:25.027623Z",
     "shell.execute_reply.started": "2024-12-04T09:44:25.023464Z"
    },
    "trusted": true
   },
   "outputs": [
    {
     "data": {
      "text/plain": [
       "'!\"#$%&\\'()*+,-./:;<=>?@[\\\\]^_`{|}~'"
      ]
     },
     "execution_count": 12,
     "metadata": {},
     "output_type": "execute_result"
    }
   ],
   "source": [
    "exclude = string.punctuation\n",
    "exclude"
   ]
  },
  {
   "cell_type": "code",
   "execution_count": 13,
   "metadata": {
    "execution": {
     "iopub.execute_input": "2024-12-04T09:44:27.102860Z",
     "iopub.status.busy": "2024-12-04T09:44:27.102530Z",
     "iopub.status.idle": "2024-12-04T09:44:30.858976Z",
     "shell.execute_reply": "2024-12-04T09:44:30.858042Z",
     "shell.execute_reply.started": "2024-12-04T09:44:27.102830Z"
    },
    "trusted": true
   },
   "outputs": [
    {
     "name": "stderr",
     "output_type": "stream",
     "text": [
      "100%|██████████| 400000/400000 [00:03<00:00, 107298.27it/s]\n"
     ]
    },
    {
     "data": {
      "text/html": [
       "<div>\n",
       "<style scoped>\n",
       "    .dataframe tbody tr th:only-of-type {\n",
       "        vertical-align: middle;\n",
       "    }\n",
       "\n",
       "    .dataframe tbody tr th {\n",
       "        vertical-align: top;\n",
       "    }\n",
       "\n",
       "    .dataframe thead th {\n",
       "        text-align: right;\n",
       "    }\n",
       "</style>\n",
       "<table border=\"1\" class=\"dataframe\">\n",
       "  <thead>\n",
       "    <tr style=\"text-align: right;\">\n",
       "      <th></th>\n",
       "      <th>polarity</th>\n",
       "      <th>title</th>\n",
       "      <th>text</th>\n",
       "      <th>review</th>\n",
       "      <th>clean_review</th>\n",
       "    </tr>\n",
       "  </thead>\n",
       "  <tbody>\n",
       "    <tr>\n",
       "      <th>0</th>\n",
       "      <td>1</td>\n",
       "      <td>Great CD</td>\n",
       "      <td>My lovely Pat has one of the GREAT voices of h...</td>\n",
       "      <td>Great CD My lovely Pat has one of the GREAT vo...</td>\n",
       "      <td>Great CD My lovely Pat has one of the GREAT vo...</td>\n",
       "    </tr>\n",
       "    <tr>\n",
       "      <th>1</th>\n",
       "      <td>1</td>\n",
       "      <td>One of the best game music soundtracks - for a...</td>\n",
       "      <td>Despite the fact that I have only played a sma...</td>\n",
       "      <td>One of the best game music soundtracks - for a...</td>\n",
       "      <td>One of the best game music soundtracks  for a ...</td>\n",
       "    </tr>\n",
       "    <tr>\n",
       "      <th>2</th>\n",
       "      <td>0</td>\n",
       "      <td>Batteries died within a year ...</td>\n",
       "      <td>I bought this charger in Jul 2003 and it worke...</td>\n",
       "      <td>Batteries died within a year ... I bought this...</td>\n",
       "      <td>Batteries died within a year  I bought this ch...</td>\n",
       "    </tr>\n",
       "    <tr>\n",
       "      <th>3</th>\n",
       "      <td>1</td>\n",
       "      <td>works fine, but Maha Energy is better</td>\n",
       "      <td>Check out Maha Energy's website. Their Powerex...</td>\n",
       "      <td>works fine, but Maha Energy is better Check ou...</td>\n",
       "      <td>works fine but Maha Energy is better Check out...</td>\n",
       "    </tr>\n",
       "    <tr>\n",
       "      <th>4</th>\n",
       "      <td>1</td>\n",
       "      <td>Great for the non-audiophile</td>\n",
       "      <td>Reviewed quite a bit of the combo players and ...</td>\n",
       "      <td>Great for the non-audiophile Reviewed quite a ...</td>\n",
       "      <td>Great for the nonaudiophile Reviewed quite a b...</td>\n",
       "    </tr>\n",
       "  </tbody>\n",
       "</table>\n",
       "</div>"
      ],
      "text/plain": [
       "   polarity                                              title  \\\n",
       "0         1                                           Great CD   \n",
       "1         1  One of the best game music soundtracks - for a...   \n",
       "2         0                   Batteries died within a year ...   \n",
       "3         1              works fine, but Maha Energy is better   \n",
       "4         1                       Great for the non-audiophile   \n",
       "\n",
       "                                                text  \\\n",
       "0  My lovely Pat has one of the GREAT voices of h...   \n",
       "1  Despite the fact that I have only played a sma...   \n",
       "2  I bought this charger in Jul 2003 and it worke...   \n",
       "3  Check out Maha Energy's website. Their Powerex...   \n",
       "4  Reviewed quite a bit of the combo players and ...   \n",
       "\n",
       "                                              review  \\\n",
       "0  Great CD My lovely Pat has one of the GREAT vo...   \n",
       "1  One of the best game music soundtracks - for a...   \n",
       "2  Batteries died within a year ... I bought this...   \n",
       "3  works fine, but Maha Energy is better Check ou...   \n",
       "4  Great for the non-audiophile Reviewed quite a ...   \n",
       "\n",
       "                                        clean_review  \n",
       "0  Great CD My lovely Pat has one of the GREAT vo...  \n",
       "1  One of the best game music soundtracks  for a ...  \n",
       "2  Batteries died within a year  I bought this ch...  \n",
       "3  works fine but Maha Energy is better Check out...  \n",
       "4  Great for the nonaudiophile Reviewed quite a b...  "
      ]
     },
     "execution_count": 13,
     "metadata": {},
     "output_type": "execute_result"
    }
   ],
   "source": [
    "def remove_punctuation(data):\n",
    "    for char in exclude:\n",
    "        data = data.replace(char,'')\n",
    "    return data\n",
    "\n",
    "data['clean_review'] =  data['clean_review'].progress_apply(lambda x: remove_punctuation(x))\n",
    "data.head()"
   ]
  },
  {
   "cell_type": "code",
   "execution_count": 15,
   "metadata": {
    "execution": {
     "iopub.execute_input": "2024-12-04T09:50:10.706827Z",
     "iopub.status.busy": "2024-12-04T09:50:10.706452Z",
     "iopub.status.idle": "2024-12-04T09:52:01.709377Z",
     "shell.execute_reply": "2024-12-04T09:52:01.708354Z",
     "shell.execute_reply.started": "2024-12-04T09:50:10.706793Z"
    },
    "trusted": true
   },
   "outputs": [
    {
     "data": {
      "text/plain": [
       "0    [Great, CD, My, lovely, Pat, has, one, of, the...\n",
       "1    [One, of, the, best, game, music, soundtracks,...\n",
       "2    [Batteries, died, within, a, year, I, bought, ...\n",
       "3    [works, fine, but, Maha, Energy, is, better, C...\n",
       "4    [Great, for, the, nonaudiophile, Reviewed, qui...\n",
       "Name: clean_review, dtype: object"
      ]
     },
     "execution_count": 15,
     "metadata": {},
     "output_type": "execute_result"
    }
   ],
   "source": [
    "data['clean_review'] = data['clean_review'].apply(lambda x: word_tokenize(x))\n",
    "data['clean_review'].head()"
   ]
  },
  {
   "cell_type": "code",
   "execution_count": 16,
   "metadata": {
    "execution": {
     "iopub.execute_input": "2024-12-04T09:54:39.809686Z",
     "iopub.status.busy": "2024-12-04T09:54:39.808671Z",
     "iopub.status.idle": "2024-12-04T09:54:39.821613Z",
     "shell.execute_reply": "2024-12-04T09:54:39.820715Z",
     "shell.execute_reply.started": "2024-12-04T09:54:39.809625Z"
    },
    "trusted": true
   },
   "outputs": [
    {
     "data": {
      "text/plain": [
       "['i',\n",
       " 'me',\n",
       " 'my',\n",
       " 'myself',\n",
       " 'we',\n",
       " 'our',\n",
       " 'ours',\n",
       " 'ourselves',\n",
       " 'you',\n",
       " \"you're\",\n",
       " \"you've\",\n",
       " \"you'll\",\n",
       " \"you'd\",\n",
       " 'your',\n",
       " 'yours',\n",
       " 'yourself',\n",
       " 'yourselves',\n",
       " 'he',\n",
       " 'him',\n",
       " 'his',\n",
       " 'himself',\n",
       " 'she',\n",
       " \"she's\",\n",
       " 'her',\n",
       " 'hers',\n",
       " 'herself',\n",
       " 'it',\n",
       " \"it's\",\n",
       " 'its',\n",
       " 'itself',\n",
       " 'they',\n",
       " 'them',\n",
       " 'their',\n",
       " 'theirs',\n",
       " 'themselves',\n",
       " 'what',\n",
       " 'which',\n",
       " 'who',\n",
       " 'whom',\n",
       " 'this',\n",
       " 'that',\n",
       " \"that'll\",\n",
       " 'these',\n",
       " 'those',\n",
       " 'am',\n",
       " 'is',\n",
       " 'are',\n",
       " 'was',\n",
       " 'were',\n",
       " 'be',\n",
       " 'been',\n",
       " 'being',\n",
       " 'have',\n",
       " 'has',\n",
       " 'had',\n",
       " 'having',\n",
       " 'do',\n",
       " 'does',\n",
       " 'did',\n",
       " 'doing',\n",
       " 'a',\n",
       " 'an',\n",
       " 'the',\n",
       " 'and',\n",
       " 'but',\n",
       " 'if',\n",
       " 'or',\n",
       " 'because',\n",
       " 'as',\n",
       " 'until',\n",
       " 'while',\n",
       " 'of',\n",
       " 'at',\n",
       " 'by',\n",
       " 'for',\n",
       " 'with',\n",
       " 'about',\n",
       " 'against',\n",
       " 'between',\n",
       " 'into',\n",
       " 'through',\n",
       " 'during',\n",
       " 'before',\n",
       " 'after',\n",
       " 'above',\n",
       " 'below',\n",
       " 'to',\n",
       " 'from',\n",
       " 'up',\n",
       " 'down',\n",
       " 'in',\n",
       " 'out',\n",
       " 'on',\n",
       " 'off',\n",
       " 'over',\n",
       " 'under',\n",
       " 'again',\n",
       " 'further',\n",
       " 'then',\n",
       " 'once',\n",
       " 'here',\n",
       " 'there',\n",
       " 'when',\n",
       " 'where',\n",
       " 'why',\n",
       " 'how',\n",
       " 'all',\n",
       " 'any',\n",
       " 'both',\n",
       " 'each',\n",
       " 'few',\n",
       " 'more',\n",
       " 'most',\n",
       " 'other',\n",
       " 'some',\n",
       " 'such',\n",
       " 'no',\n",
       " 'nor',\n",
       " 'not',\n",
       " 'only',\n",
       " 'own',\n",
       " 'same',\n",
       " 'so',\n",
       " 'than',\n",
       " 'too',\n",
       " 'very',\n",
       " 's',\n",
       " 't',\n",
       " 'can',\n",
       " 'will',\n",
       " 'just',\n",
       " 'don',\n",
       " \"don't\",\n",
       " 'should',\n",
       " \"should've\",\n",
       " 'now',\n",
       " 'd',\n",
       " 'll',\n",
       " 'm',\n",
       " 'o',\n",
       " 're',\n",
       " 've',\n",
       " 'y',\n",
       " 'ain',\n",
       " 'aren',\n",
       " \"aren't\",\n",
       " 'couldn',\n",
       " \"couldn't\",\n",
       " 'didn',\n",
       " \"didn't\",\n",
       " 'doesn',\n",
       " \"doesn't\",\n",
       " 'hadn',\n",
       " \"hadn't\",\n",
       " 'hasn',\n",
       " \"hasn't\",\n",
       " 'haven',\n",
       " \"haven't\",\n",
       " 'isn',\n",
       " \"isn't\",\n",
       " 'ma',\n",
       " 'mightn',\n",
       " \"mightn't\",\n",
       " 'mustn',\n",
       " \"mustn't\",\n",
       " 'needn',\n",
       " \"needn't\",\n",
       " 'shan',\n",
       " \"shan't\",\n",
       " 'shouldn',\n",
       " \"shouldn't\",\n",
       " 'wasn',\n",
       " \"wasn't\",\n",
       " 'weren',\n",
       " \"weren't\",\n",
       " 'won',\n",
       " \"won't\",\n",
       " 'wouldn',\n",
       " \"wouldn't\"]"
      ]
     },
     "execution_count": 16,
     "metadata": {},
     "output_type": "execute_result"
    }
   ],
   "source": [
    "StopWords = stopwords.words(\"english\")\n",
    "StopWords"
   ]
  },
  {
   "cell_type": "code",
   "execution_count": 17,
   "metadata": {
    "execution": {
     "iopub.execute_input": "2024-12-04T09:54:45.491387Z",
     "iopub.status.busy": "2024-12-04T09:54:45.491030Z",
     "iopub.status.idle": "2024-12-04T09:55:39.804986Z",
     "shell.execute_reply": "2024-12-04T09:55:39.804125Z",
     "shell.execute_reply.started": "2024-12-04T09:54:45.491355Z"
    },
    "trusted": true
   },
   "outputs": [
    {
     "data": {
      "text/plain": [
       "0    [Great, CD, My, lovely, Pat, one, GREAT, voice...\n",
       "1    [One, best, game, music, soundtracks, game, I,...\n",
       "2    [Batteries, died, within, year, I, bought, cha...\n",
       "3    [works, fine, Maha, Energy, better, Check, Mah...\n",
       "4    [Great, nonaudiophile, Reviewed, quite, bit, c...\n",
       "Name: clean_review, dtype: object"
      ]
     },
     "execution_count": 17,
     "metadata": {},
     "output_type": "execute_result"
    }
   ],
   "source": [
    "def remove_stopwords(text):\n",
    "    return [word for word in text if word not in StopWords]\n",
    "    \n",
    "data['clean_review']=data['clean_review'].apply(lambda x:remove_stopwords(x))\n",
    "data['clean_review'].head()"
   ]
  },
  {
   "cell_type": "code",
   "execution_count": 19,
   "metadata": {
    "execution": {
     "iopub.execute_input": "2024-12-04T09:56:31.254418Z",
     "iopub.status.busy": "2024-12-04T09:56:31.253574Z",
     "iopub.status.idle": "2024-12-04T10:01:18.801288Z",
     "shell.execute_reply": "2024-12-04T10:01:18.800370Z",
     "shell.execute_reply.started": "2024-12-04T09:56:31.254378Z"
    },
    "trusted": true
   },
   "outputs": [
    {
     "data": {
      "text/plain": [
       "0    great CD My love pat one great voic gener I li...\n",
       "1    one best game music soundtrack game I didnt re...\n",
       "2    batteri die within year I bought charger jul w...\n",
       "3    work fine maha energi better check maha energi...\n",
       "4    great nonaudiophil review quit bit combo playe...\n",
       "Name: clean_review, dtype: object"
      ]
     },
     "execution_count": 19,
     "metadata": {},
     "output_type": "execute_result"
    }
   ],
   "source": [
    "from nltk.stem import PorterStemmer\n",
    "\n",
    "ps=PorterStemmer()\n",
    "def stem_words(text):\n",
    "    return \" \".join([ps.stem(word) for word in text])\n",
    "\n",
    "data['clean_review'] = data['clean_review'].apply(lambda x:stem_words(x))\n",
    "data['clean_review'].head()"
   ]
  },
  {
   "cell_type": "code",
   "execution_count": 23,
   "metadata": {
    "execution": {
     "iopub.execute_input": "2024-12-04T10:26:48.271617Z",
     "iopub.status.busy": "2024-12-04T10:26:48.270678Z",
     "iopub.status.idle": "2024-12-04T10:26:52.329014Z",
     "shell.execute_reply": "2024-12-04T10:26:52.328096Z",
     "shell.execute_reply.started": "2024-12-04T10:26:48.271563Z"
    },
    "trusted": true
   },
   "outputs": [],
   "source": [
    "from collections import Counter\n",
    "sequences = [desc.split() for desc in data['clean_review']]\n",
    "sequence_lengths = [len(seq) for seq in sequences]\n",
    "length_counts = Counter(sequence_lengths)\n",
    "lengths = list(length_counts.keys())\n",
    "counts = list(length_counts.values())"
   ]
  },
  {
   "cell_type": "code",
   "execution_count": 24,
   "metadata": {
    "execution": {
     "iopub.execute_input": "2024-12-04T10:27:11.982589Z",
     "iopub.status.busy": "2024-12-04T10:27:11.982196Z",
     "iopub.status.idle": "2024-12-04T10:27:11.988204Z",
     "shell.execute_reply": "2024-12-04T10:27:11.987479Z",
     "shell.execute_reply.started": "2024-12-04T10:27:11.982554Z"
    },
    "trusted": true
   },
   "outputs": [
    {
     "data": {
      "text/plain": [
       "[(18, 8182), (17, 8151), (16, 8039), (19, 7912), (20, 7884)]"
      ]
     },
     "execution_count": 24,
     "metadata": {},
     "output_type": "execute_result"
    }
   ],
   "source": [
    "length_counts.most_common(5)"
   ]
  },
  {
   "cell_type": "code",
   "execution_count": 26,
   "metadata": {
    "execution": {
     "iopub.execute_input": "2024-12-04T10:27:48.454100Z",
     "iopub.status.busy": "2024-12-04T10:27:48.453238Z",
     "iopub.status.idle": "2024-12-04T10:28:02.416173Z",
     "shell.execute_reply": "2024-12-04T10:28:02.415505Z",
     "shell.execute_reply.started": "2024-12-04T10:27:48.454067Z"
    },
    "trusted": true
   },
   "outputs": [],
   "source": [
    "vocab_sz = 10000\n",
    "tok = Tokenizer(num_words=vocab_sz, oov_token='UNK')\n",
    "tok.fit_on_texts(data['clean_review'])\n",
    "\n"
   ]
  },
  {
   "cell_type": "code",
   "execution_count": 21,
   "metadata": {
    "execution": {
     "iopub.execute_input": "2024-12-04T10:25:11.069346Z",
     "iopub.status.busy": "2024-12-04T10:25:11.068728Z",
     "iopub.status.idle": "2024-12-04T10:25:11.238101Z",
     "shell.execute_reply": "2024-12-04T10:25:11.237103Z",
     "shell.execute_reply.started": "2024-12-04T10:25:11.069295Z"
    },
    "trusted": true
   },
   "outputs": [],
   "source": [
    "import sklearn\n",
    "from sklearn.model_selection import train_test_split \n",
    "x=data['clean_review']\n",
    "y=data['polarity']\n",
    "\n",
    "x_train, x_test, y_train, y_test = train_test_split( x, y, test_size=0.2, random_state=42, stratify=y)"
   ]
  },
  {
   "cell_type": "code",
   "execution_count": 27,
   "metadata": {
    "execution": {
     "iopub.execute_input": "2024-12-04T10:28:23.020826Z",
     "iopub.status.busy": "2024-12-04T10:28:23.020032Z",
     "iopub.status.idle": "2024-12-04T10:28:34.223127Z",
     "shell.execute_reply": "2024-12-04T10:28:34.222464Z",
     "shell.execute_reply.started": "2024-12-04T10:28:23.020778Z"
    },
    "trusted": true
   },
   "outputs": [],
   "source": [
    "# Convert texts to sequences\n",
    "x_train_seq = tok.texts_to_sequences(x_train)\n",
    "x_test_seq = tok.texts_to_sequences(x_test)"
   ]
  },
  {
   "cell_type": "code",
   "execution_count": 29,
   "metadata": {
    "execution": {
     "iopub.execute_input": "2024-12-04T10:28:41.597197Z",
     "iopub.status.busy": "2024-12-04T10:28:41.596868Z",
     "iopub.status.idle": "2024-12-04T10:28:41.607373Z",
     "shell.execute_reply": "2024-12-04T10:28:41.606479Z",
     "shell.execute_reply.started": "2024-12-04T10:28:41.597165Z"
    },
    "trusted": true
   },
   "outputs": [],
   "source": [
    "from sklearn.preprocessing import LabelEncoder\n",
    "lb = LabelEncoder()\n",
    "y_train = lb.fit_transform(y_train)\n",
    "y_test = lb.transform(y_test)"
   ]
  },
  {
   "cell_type": "code",
   "execution_count": 30,
   "metadata": {
    "execution": {
     "iopub.execute_input": "2024-12-04T10:28:54.238697Z",
     "iopub.status.busy": "2024-12-04T10:28:54.237945Z",
     "iopub.status.idle": "2024-12-04T10:28:54.245193Z",
     "shell.execute_reply": "2024-12-04T10:28:54.244216Z",
     "shell.execute_reply.started": "2024-12-04T10:28:54.238648Z"
    },
    "trusted": true
   },
   "outputs": [
    {
     "data": {
      "text/plain": [
       "array([0, 1])"
      ]
     },
     "execution_count": 30,
     "metadata": {},
     "output_type": "execute_result"
    }
   ],
   "source": [
    "classes_lb = lb.classes_\n",
    "classes_lb"
   ]
  },
  {
   "cell_type": "code",
   "execution_count": 32,
   "metadata": {
    "execution": {
     "iopub.execute_input": "2024-12-04T10:29:10.234428Z",
     "iopub.status.busy": "2024-12-04T10:29:10.233748Z",
     "iopub.status.idle": "2024-12-04T10:29:10.238229Z",
     "shell.execute_reply": "2024-12-04T10:29:10.237381Z",
     "shell.execute_reply.started": "2024-12-04T10:29:10.234393Z"
    },
    "trusted": true
   },
   "outputs": [],
   "source": [
    "def get_max_len(texts):\n",
    "  return max([len(word_tokenize(text)) for text in texts])"
   ]
  },
  {
   "cell_type": "code",
   "execution_count": 33,
   "metadata": {
    "execution": {
     "iopub.execute_input": "2024-12-04T10:29:41.495938Z",
     "iopub.status.busy": "2024-12-04T10:29:41.495133Z",
     "iopub.status.idle": "2024-12-04T10:30:54.420709Z",
     "shell.execute_reply": "2024-12-04T10:30:54.419986Z",
     "shell.execute_reply.started": "2024-12-04T10:29:41.495902Z"
    },
    "trusted": true
   },
   "outputs": [],
   "source": [
    "maxlen = get_max_len(data['clean_review'])"
   ]
  },
  {
   "cell_type": "code",
   "execution_count": 34,
   "metadata": {
    "execution": {
     "iopub.execute_input": "2024-12-04T10:31:09.876785Z",
     "iopub.status.busy": "2024-12-04T10:31:09.876453Z",
     "iopub.status.idle": "2024-12-04T10:31:09.882220Z",
     "shell.execute_reply": "2024-12-04T10:31:09.881390Z",
     "shell.execute_reply.started": "2024-12-04T10:31:09.876755Z"
    },
    "trusted": true
   },
   "outputs": [
    {
     "data": {
      "text/plain": [
       "201"
      ]
     },
     "execution_count": 34,
     "metadata": {},
     "output_type": "execute_result"
    }
   ],
   "source": [
    "maxlen "
   ]
  },
  {
   "cell_type": "code",
   "execution_count": 35,
   "metadata": {
    "execution": {
     "iopub.execute_input": "2024-12-04T10:31:14.298986Z",
     "iopub.status.busy": "2024-12-04T10:31:14.298681Z",
     "iopub.status.idle": "2024-12-04T10:31:15.723787Z",
     "shell.execute_reply": "2024-12-04T10:31:15.723058Z",
     "shell.execute_reply.started": "2024-12-04T10:31:14.298958Z"
    },
    "trusted": true
   },
   "outputs": [],
   "source": [
    "# Pad sequences to the same length\n",
    "x_train = pad_sequences(x_train_seq, maxlen=maxlen, padding='post', truncating='post')  # Adjust `maxlen` as needed\n",
    "x_test = pad_sequences(x_test_seq, maxlen=maxlen, padding='post', truncating='post')"
   ]
  },
  {
   "cell_type": "code",
   "execution_count": 36,
   "metadata": {
    "execution": {
     "iopub.execute_input": "2024-12-04T10:31:22.900924Z",
     "iopub.status.busy": "2024-12-04T10:31:22.899893Z",
     "iopub.status.idle": "2024-12-04T10:31:22.906289Z",
     "shell.execute_reply": "2024-12-04T10:31:22.905363Z",
     "shell.execute_reply.started": "2024-12-04T10:31:22.900885Z"
    },
    "trusted": true
   },
   "outputs": [
    {
     "name": "stdout",
     "output_type": "stream",
     "text": [
      "First padded training sequence: [  69  197 1068 3034   69  554  146   21  154    2   12   27    2  141\n",
      "    2   61   30  306   52   22 4439  206  838   13 1054  433  232  106\n",
      "    2   19  372   13   47    1 1256  838 2423 1297  121   12  353  860\n",
      "  901 2495 1319 2495  901    1    1 5131 1319    1 2566 5131  106    1\n",
      "    1 1763 8488   20  201  603 2096 1919  434   11 8289  390 5815  838\n",
      "  308  901 1319   40 1907  463  127 1318 1878    2  183   99 1555  924\n",
      "   12 8525   76  996  285    1  183   12  603 2096 1919    2    1   80\n",
      "  296  124 2495 9368  145 1085  479  237 1786    0    0    0    0    0\n",
      "    0    0    0    0    0    0    0    0    0    0    0    0    0    0\n",
      "    0    0    0    0    0    0    0    0    0    0    0    0    0    0\n",
      "    0    0    0    0    0    0    0    0    0    0    0    0    0    0\n",
      "    0    0    0    0    0    0    0    0    0    0    0    0    0    0\n",
      "    0    0    0    0    0    0    0    0    0    0    0    0    0    0\n",
      "    0    0    0    0    0    0    0    0    0    0    0    0    0    0\n",
      "    0    0    0    0    0]\n",
      "First padded testing sequence: [  10   23    2   44    1  561  937  374    2  240    8  145 2564   36\n",
      "  561  937  153    0    0    0    0    0    0    0    0    0    0    0\n",
      "    0    0    0    0    0    0    0    0    0    0    0    0    0    0\n",
      "    0    0    0    0    0    0    0    0    0    0    0    0    0    0\n",
      "    0    0    0    0    0    0    0    0    0    0    0    0    0    0\n",
      "    0    0    0    0    0    0    0    0    0    0    0    0    0    0\n",
      "    0    0    0    0    0    0    0    0    0    0    0    0    0    0\n",
      "    0    0    0    0    0    0    0    0    0    0    0    0    0    0\n",
      "    0    0    0    0    0    0    0    0    0    0    0    0    0    0\n",
      "    0    0    0    0    0    0    0    0    0    0    0    0    0    0\n",
      "    0    0    0    0    0    0    0    0    0    0    0    0    0    0\n",
      "    0    0    0    0    0    0    0    0    0    0    0    0    0    0\n",
      "    0    0    0    0    0    0    0    0    0    0    0    0    0    0\n",
      "    0    0    0    0    0    0    0    0    0    0    0    0    0    0\n",
      "    0    0    0    0    0]\n"
     ]
    }
   ],
   "source": [
    "print(\"First padded training sequence:\", x_train[0])\n",
    "print(\"First padded testing sequence:\", x_test[0])"
   ]
  },
  {
   "cell_type": "code",
   "execution_count": 48,
   "metadata": {
    "execution": {
     "iopub.execute_input": "2024-12-04T15:30:37.573408Z",
     "iopub.status.busy": "2024-12-04T15:30:37.573038Z",
     "iopub.status.idle": "2024-12-04T18:29:54.593866Z",
     "shell.execute_reply": "2024-12-04T18:29:54.593123Z",
     "shell.execute_reply.started": "2024-12-04T15:30:37.573375Z"
    },
    "trusted": true
   },
   "outputs": [
    {
     "data": {
      "text/html": [
       "<pre style=\"white-space:pre;overflow-x:auto;line-height:normal;font-family:Menlo,'DejaVu Sans Mono',consolas,'Courier New',monospace\"><span style=\"font-weight: bold\">Model: \"sequential_6\"</span>\n",
       "</pre>\n"
      ],
      "text/plain": [
       "\u001b[1mModel: \"sequential_6\"\u001b[0m\n"
      ]
     },
     "metadata": {},
     "output_type": "display_data"
    },
    {
     "data": {
      "text/html": [
       "<pre style=\"white-space:pre;overflow-x:auto;line-height:normal;font-family:Menlo,'DejaVu Sans Mono',consolas,'Courier New',monospace\">┏━━━━━━━━━━━━━━━━━━━━━━━━━━━━━━━━━┳━━━━━━━━━━━━━━━━━━━━━━━━┳━━━━━━━━━━━━━━━┓\n",
       "┃<span style=\"font-weight: bold\"> Layer (type)                    </span>┃<span style=\"font-weight: bold\"> Output Shape           </span>┃<span style=\"font-weight: bold\">       Param # </span>┃\n",
       "┡━━━━━━━━━━━━━━━━━━━━━━━━━━━━━━━━━╇━━━━━━━━━━━━━━━━━━━━━━━━╇━━━━━━━━━━━━━━━┩\n",
       "│ embedding_5 (<span style=\"color: #0087ff; text-decoration-color: #0087ff\">Embedding</span>)         │ ?                      │   <span style=\"color: #00af00; text-decoration-color: #00af00\">0</span> (unbuilt) │\n",
       "├─────────────────────────────────┼────────────────────────┼───────────────┤\n",
       "│ lstm_15 (<span style=\"color: #0087ff; text-decoration-color: #0087ff\">LSTM</span>)                  │ ?                      │   <span style=\"color: #00af00; text-decoration-color: #00af00\">0</span> (unbuilt) │\n",
       "├─────────────────────────────────┼────────────────────────┼───────────────┤\n",
       "│ dropout_19 (<span style=\"color: #0087ff; text-decoration-color: #0087ff\">Dropout</span>)            │ ?                      │   <span style=\"color: #00af00; text-decoration-color: #00af00\">0</span> (unbuilt) │\n",
       "├─────────────────────────────────┼────────────────────────┼───────────────┤\n",
       "│ lstm_16 (<span style=\"color: #0087ff; text-decoration-color: #0087ff\">LSTM</span>)                  │ ?                      │   <span style=\"color: #00af00; text-decoration-color: #00af00\">0</span> (unbuilt) │\n",
       "├─────────────────────────────────┼────────────────────────┼───────────────┤\n",
       "│ dropout_20 (<span style=\"color: #0087ff; text-decoration-color: #0087ff\">Dropout</span>)            │ ?                      │   <span style=\"color: #00af00; text-decoration-color: #00af00\">0</span> (unbuilt) │\n",
       "├─────────────────────────────────┼────────────────────────┼───────────────┤\n",
       "│ lstm_17 (<span style=\"color: #0087ff; text-decoration-color: #0087ff\">LSTM</span>)                  │ ?                      │   <span style=\"color: #00af00; text-decoration-color: #00af00\">0</span> (unbuilt) │\n",
       "├─────────────────────────────────┼────────────────────────┼───────────────┤\n",
       "│ dropout_21 (<span style=\"color: #0087ff; text-decoration-color: #0087ff\">Dropout</span>)            │ ?                      │   <span style=\"color: #00af00; text-decoration-color: #00af00\">0</span> (unbuilt) │\n",
       "├─────────────────────────────────┼────────────────────────┼───────────────┤\n",
       "│ dense_7 (<span style=\"color: #0087ff; text-decoration-color: #0087ff\">Dense</span>)                 │ ?                      │   <span style=\"color: #00af00; text-decoration-color: #00af00\">0</span> (unbuilt) │\n",
       "├─────────────────────────────────┼────────────────────────┼───────────────┤\n",
       "│ batch_normalization_4           │ ?                      │   <span style=\"color: #00af00; text-decoration-color: #00af00\">0</span> (unbuilt) │\n",
       "│ (<span style=\"color: #0087ff; text-decoration-color: #0087ff\">BatchNormalization</span>)            │                        │               │\n",
       "├─────────────────────────────────┼────────────────────────┼───────────────┤\n",
       "│ dropout_22 (<span style=\"color: #0087ff; text-decoration-color: #0087ff\">Dropout</span>)            │ ?                      │   <span style=\"color: #00af00; text-decoration-color: #00af00\">0</span> (unbuilt) │\n",
       "├─────────────────────────────────┼────────────────────────┼───────────────┤\n",
       "│ dense_8 (<span style=\"color: #0087ff; text-decoration-color: #0087ff\">Dense</span>)                 │ ?                      │   <span style=\"color: #00af00; text-decoration-color: #00af00\">0</span> (unbuilt) │\n",
       "└─────────────────────────────────┴────────────────────────┴───────────────┘\n",
       "</pre>\n"
      ],
      "text/plain": [
       "┏━━━━━━━━━━━━━━━━━━━━━━━━━━━━━━━━━┳━━━━━━━━━━━━━━━━━━━━━━━━┳━━━━━━━━━━━━━━━┓\n",
       "┃\u001b[1m \u001b[0m\u001b[1mLayer (type)                   \u001b[0m\u001b[1m \u001b[0m┃\u001b[1m \u001b[0m\u001b[1mOutput Shape          \u001b[0m\u001b[1m \u001b[0m┃\u001b[1m \u001b[0m\u001b[1m      Param #\u001b[0m\u001b[1m \u001b[0m┃\n",
       "┡━━━━━━━━━━━━━━━━━━━━━━━━━━━━━━━━━╇━━━━━━━━━━━━━━━━━━━━━━━━╇━━━━━━━━━━━━━━━┩\n",
       "│ embedding_5 (\u001b[38;5;33mEmbedding\u001b[0m)         │ ?                      │   \u001b[38;5;34m0\u001b[0m (unbuilt) │\n",
       "├─────────────────────────────────┼────────────────────────┼───────────────┤\n",
       "│ lstm_15 (\u001b[38;5;33mLSTM\u001b[0m)                  │ ?                      │   \u001b[38;5;34m0\u001b[0m (unbuilt) │\n",
       "├─────────────────────────────────┼────────────────────────┼───────────────┤\n",
       "│ dropout_19 (\u001b[38;5;33mDropout\u001b[0m)            │ ?                      │   \u001b[38;5;34m0\u001b[0m (unbuilt) │\n",
       "├─────────────────────────────────┼────────────────────────┼───────────────┤\n",
       "│ lstm_16 (\u001b[38;5;33mLSTM\u001b[0m)                  │ ?                      │   \u001b[38;5;34m0\u001b[0m (unbuilt) │\n",
       "├─────────────────────────────────┼────────────────────────┼───────────────┤\n",
       "│ dropout_20 (\u001b[38;5;33mDropout\u001b[0m)            │ ?                      │   \u001b[38;5;34m0\u001b[0m (unbuilt) │\n",
       "├─────────────────────────────────┼────────────────────────┼───────────────┤\n",
       "│ lstm_17 (\u001b[38;5;33mLSTM\u001b[0m)                  │ ?                      │   \u001b[38;5;34m0\u001b[0m (unbuilt) │\n",
       "├─────────────────────────────────┼────────────────────────┼───────────────┤\n",
       "│ dropout_21 (\u001b[38;5;33mDropout\u001b[0m)            │ ?                      │   \u001b[38;5;34m0\u001b[0m (unbuilt) │\n",
       "├─────────────────────────────────┼────────────────────────┼───────────────┤\n",
       "│ dense_7 (\u001b[38;5;33mDense\u001b[0m)                 │ ?                      │   \u001b[38;5;34m0\u001b[0m (unbuilt) │\n",
       "├─────────────────────────────────┼────────────────────────┼───────────────┤\n",
       "│ batch_normalization_4           │ ?                      │   \u001b[38;5;34m0\u001b[0m (unbuilt) │\n",
       "│ (\u001b[38;5;33mBatchNormalization\u001b[0m)            │                        │               │\n",
       "├─────────────────────────────────┼────────────────────────┼───────────────┤\n",
       "│ dropout_22 (\u001b[38;5;33mDropout\u001b[0m)            │ ?                      │   \u001b[38;5;34m0\u001b[0m (unbuilt) │\n",
       "├─────────────────────────────────┼────────────────────────┼───────────────┤\n",
       "│ dense_8 (\u001b[38;5;33mDense\u001b[0m)                 │ ?                      │   \u001b[38;5;34m0\u001b[0m (unbuilt) │\n",
       "└─────────────────────────────────┴────────────────────────┴───────────────┘\n"
      ]
     },
     "metadata": {},
     "output_type": "display_data"
    },
    {
     "data": {
      "text/html": [
       "<pre style=\"white-space:pre;overflow-x:auto;line-height:normal;font-family:Menlo,'DejaVu Sans Mono',consolas,'Courier New',monospace\"><span style=\"font-weight: bold\"> Total params: </span><span style=\"color: #00af00; text-decoration-color: #00af00\">0</span> (0.00 B)\n",
       "</pre>\n"
      ],
      "text/plain": [
       "\u001b[1m Total params: \u001b[0m\u001b[38;5;34m0\u001b[0m (0.00 B)\n"
      ]
     },
     "metadata": {},
     "output_type": "display_data"
    },
    {
     "data": {
      "text/html": [
       "<pre style=\"white-space:pre;overflow-x:auto;line-height:normal;font-family:Menlo,'DejaVu Sans Mono',consolas,'Courier New',monospace\"><span style=\"font-weight: bold\"> Trainable params: </span><span style=\"color: #00af00; text-decoration-color: #00af00\">0</span> (0.00 B)\n",
       "</pre>\n"
      ],
      "text/plain": [
       "\u001b[1m Trainable params: \u001b[0m\u001b[38;5;34m0\u001b[0m (0.00 B)\n"
      ]
     },
     "metadata": {},
     "output_type": "display_data"
    },
    {
     "data": {
      "text/html": [
       "<pre style=\"white-space:pre;overflow-x:auto;line-height:normal;font-family:Menlo,'DejaVu Sans Mono',consolas,'Courier New',monospace\"><span style=\"font-weight: bold\"> Non-trainable params: </span><span style=\"color: #00af00; text-decoration-color: #00af00\">0</span> (0.00 B)\n",
       "</pre>\n"
      ],
      "text/plain": [
       "\u001b[1m Non-trainable params: \u001b[0m\u001b[38;5;34m0\u001b[0m (0.00 B)\n"
      ]
     },
     "metadata": {},
     "output_type": "display_data"
    },
    {
     "name": "stdout",
     "output_type": "stream",
     "text": [
      "Epoch 1/50\n",
      "\u001b[1m1000/1000\u001b[0m \u001b[32m━━━━━━━━━━━━━━━━━━━━\u001b[0m\u001b[37m\u001b[0m \u001b[1m668s\u001b[0m 663ms/step - accuracy: 0.8031 - loss: 0.5383 - val_accuracy: 0.8811 - val_loss: 0.3023\n",
      "Epoch 2/50\n",
      "\u001b[1m1000/1000\u001b[0m \u001b[32m━━━━━━━━━━━━━━━━━━━━\u001b[0m\u001b[37m\u001b[0m \u001b[1m664s\u001b[0m 664ms/step - accuracy: 0.8856 - loss: 0.2911 - val_accuracy: 0.8936 - val_loss: 0.2602\n",
      "Epoch 3/50\n",
      "\u001b[1m1000/1000\u001b[0m \u001b[32m━━━━━━━━━━━━━━━━━━━━\u001b[0m\u001b[37m\u001b[0m \u001b[1m665s\u001b[0m 665ms/step - accuracy: 0.8992 - loss: 0.2571 - val_accuracy: 0.9013 - val_loss: 0.2457\n",
      "Epoch 4/50\n",
      "\u001b[1m1000/1000\u001b[0m \u001b[32m━━━━━━━━━━━━━━━━━━━━\u001b[0m\u001b[37m\u001b[0m \u001b[1m665s\u001b[0m 665ms/step - accuracy: 0.9084 - loss: 0.2361 - val_accuracy: 0.9040 - val_loss: 0.2406\n",
      "Epoch 5/50\n",
      "\u001b[1m1000/1000\u001b[0m \u001b[32m━━━━━━━━━━━━━━━━━━━━\u001b[0m\u001b[37m\u001b[0m \u001b[1m723s\u001b[0m 723ms/step - accuracy: 0.9159 - loss: 0.2169 - val_accuracy: 0.9054 - val_loss: 0.2349\n",
      "Epoch 6/50\n",
      "\u001b[1m1000/1000\u001b[0m \u001b[32m━━━━━━━━━━━━━━━━━━━━\u001b[0m\u001b[37m\u001b[0m \u001b[1m715s\u001b[0m 715ms/step - accuracy: 0.9226 - loss: 0.2034 - val_accuracy: 0.9087 - val_loss: 0.2333\n",
      "Epoch 7/50\n",
      "\u001b[1m1000/1000\u001b[0m \u001b[32m━━━━━━━━━━━━━━━━━━━━\u001b[0m\u001b[37m\u001b[0m \u001b[1m667s\u001b[0m 667ms/step - accuracy: 0.9275 - loss: 0.1922 - val_accuracy: 0.9061 - val_loss: 0.2389\n",
      "Epoch 8/50\n",
      "\u001b[1m1000/1000\u001b[0m \u001b[32m━━━━━━━━━━━━━━━━━━━━\u001b[0m\u001b[37m\u001b[0m \u001b[1m658s\u001b[0m 658ms/step - accuracy: 0.9313 - loss: 0.1841 - val_accuracy: 0.9080 - val_loss: 0.2371\n",
      "Epoch 9/50\n",
      "\u001b[1m1000/1000\u001b[0m \u001b[32m━━━━━━━━━━━━━━━━━━━━\u001b[0m\u001b[37m\u001b[0m \u001b[1m663s\u001b[0m 663ms/step - accuracy: 0.9350 - loss: 0.1759 - val_accuracy: 0.9075 - val_loss: 0.2442\n",
      "Epoch 10/50\n",
      "\u001b[1m1000/1000\u001b[0m \u001b[32m━━━━━━━━━━━━━━━━━━━━\u001b[0m\u001b[37m\u001b[0m \u001b[1m662s\u001b[0m 662ms/step - accuracy: 0.9397 - loss: 0.1670 - val_accuracy: 0.9061 - val_loss: 0.2493\n",
      "Epoch 11/50\n",
      "\u001b[1m1000/1000\u001b[0m \u001b[32m━━━━━━━━━━━━━━━━━━━━\u001b[0m\u001b[37m\u001b[0m \u001b[1m663s\u001b[0m 663ms/step - accuracy: 0.9401 - loss: 0.1631 - val_accuracy: 0.9075 - val_loss: 0.2389\n",
      "Epoch 12/50\n",
      "\u001b[1m1000/1000\u001b[0m \u001b[32m━━━━━━━━━━━━━━━━━━━━\u001b[0m\u001b[37m\u001b[0m \u001b[1m662s\u001b[0m 662ms/step - accuracy: 0.9445 - loss: 0.1538 - val_accuracy: 0.9056 - val_loss: 0.2636\n",
      "Epoch 13/50\n",
      "\u001b[1m1000/1000\u001b[0m \u001b[32m━━━━━━━━━━━━━━━━━━━━\u001b[0m\u001b[37m\u001b[0m \u001b[1m669s\u001b[0m 669ms/step - accuracy: 0.9468 - loss: 0.1470 - val_accuracy: 0.9058 - val_loss: 0.2636\n",
      "Epoch 14/50\n",
      "\u001b[1m1000/1000\u001b[0m \u001b[32m━━━━━━━━━━━━━━━━━━━━\u001b[0m\u001b[37m\u001b[0m \u001b[1m677s\u001b[0m 677ms/step - accuracy: 0.9478 - loss: 0.1446 - val_accuracy: 0.9037 - val_loss: 0.2589\n",
      "Epoch 15/50\n",
      "\u001b[1m1000/1000\u001b[0m \u001b[32m━━━━━━━━━━━━━━━━━━━━\u001b[0m\u001b[37m\u001b[0m \u001b[1m672s\u001b[0m 672ms/step - accuracy: 0.9513 - loss: 0.1383 - val_accuracy: 0.9037 - val_loss: 0.2820\n",
      "Epoch 16/50\n",
      "\u001b[1m1000/1000\u001b[0m \u001b[32m━━━━━━━━━━━━━━━━━━━━\u001b[0m\u001b[37m\u001b[0m \u001b[1m663s\u001b[0m 663ms/step - accuracy: 0.9525 - loss: 0.1352 - val_accuracy: 0.9043 - val_loss: 0.2761\n"
     ]
    }
   ],
   "source": [
    "from keras.models import Sequential\n",
    "from keras.layers import Dense, Dropout, Embedding, LSTM, BatchNormalization\n",
    "from keras.callbacks import EarlyStopping\n",
    "from keras.regularizers import l2\n",
    "\n",
    "embedding_size = 100\n",
    "\n",
    "# Model: Enhanced LSTM with multiple layers\n",
    "model = Sequential()\n",
    "model.add(Embedding(vocab_sz + 1, embedding_size, mask_zero=True, input_length=maxlen))\n",
    "\n",
    "# Add LSTM layers with increased dropout\n",
    "model.add(LSTM(64, return_sequences=True, recurrent_dropout=0.3, dropout=0.3))\n",
    "model.add(Dropout(0.4))\n",
    "model.add(LSTM(64, return_sequences=True, recurrent_dropout=0.3, dropout=0.3))\n",
    "model.add(Dropout(0.4))\n",
    "model.add(LSTM(64, recurrent_dropout=0.3, dropout=0.3))\n",
    "model.add(Dropout(0.4))\n",
    "\n",
    "# Add dense layers with regularization\n",
    "model.add(Dense(32, activation='relu', kernel_regularizer=l2(0.01)))\n",
    "model.add(BatchNormalization())\n",
    "model.add(Dropout(0.4))\n",
    "\n",
    "# Output layer\n",
    "model.add(Dense(2, activation='softmax'))\n",
    "\n",
    "# Compile the model\n",
    "model.compile(\n",
    "    loss='sparse_categorical_crossentropy',\n",
    "    optimizer='adam',\n",
    "    metrics=['accuracy']\n",
    ")\n",
    "\n",
    "# Model summary\n",
    "model.summary()\n",
    "\n",
    "# EarlyStopping callback\n",
    "checkpoint = EarlyStopping(monitor='val_accuracy', patience=10, mode='max', restore_best_weights=True)\n",
    "callbacks_lst = [checkpoint]\n",
    "\n",
    "# Train the model\n",
    "history = model.fit(\n",
    "    x_train, y_train,\n",
    "    batch_size=256,\n",
    "    epochs=50,  # Adjust epochs to see results\n",
    "    validation_split=0.2,\n",
    "    callbacks=callbacks_lst\n",
    ")\n"
   ]
  },
  {
   "cell_type": "code",
   "execution_count": 46,
   "metadata": {
    "execution": {
     "iopub.execute_input": "2024-12-04T13:05:10.513257Z",
     "iopub.status.busy": "2024-12-04T13:05:10.512463Z",
     "iopub.status.idle": "2024-12-04T13:05:10.517248Z",
     "shell.execute_reply": "2024-12-04T13:05:10.516352Z",
     "shell.execute_reply.started": "2024-12-04T13:05:10.513222Z"
    },
    "trusted": true
   },
   "outputs": [],
   "source": [
    "checkpoint = EarlyStopping(monitor='val_accuracy',patience = 10 ,mode='max')\n",
    "callbacks_lst = [checkpoint]"
   ]
  },
  {
   "cell_type": "code",
   "execution_count": 52,
   "metadata": {
    "execution": {
     "iopub.execute_input": "2024-12-04T19:04:34.422154Z",
     "iopub.status.busy": "2024-12-04T19:04:34.421798Z",
     "iopub.status.idle": "2024-12-04T19:12:05.671809Z",
     "shell.execute_reply": "2024-12-04T19:12:05.670931Z",
     "shell.execute_reply.started": "2024-12-04T19:04:34.422121Z"
    },
    "trusted": true
   },
   "outputs": [
    {
     "name": "stdout",
     "output_type": "stream",
     "text": [
      "\u001b[1m2500/2500\u001b[0m \u001b[32m━━━━━━━━━━━━━━━━━━━━\u001b[0m\u001b[37m\u001b[0m \u001b[1m451s\u001b[0m 180ms/step - accuracy: 0.9086 - loss: 0.2358\n"
     ]
    },
    {
     "data": {
      "text/plain": [
       "[0.23579861223697662, 0.9080250263214111]"
      ]
     },
     "execution_count": 52,
     "metadata": {},
     "output_type": "execute_result"
    }
   ],
   "source": [
    "model.evaluate(x_test,y_test)"
   ]
  },
  {
   "cell_type": "code",
   "execution_count": 51,
   "metadata": {
    "execution": {
     "iopub.execute_input": "2024-12-04T18:33:45.063179Z",
     "iopub.status.busy": "2024-12-04T18:33:45.062298Z",
     "iopub.status.idle": "2024-12-04T19:03:43.899832Z",
     "shell.execute_reply": "2024-12-04T19:03:43.898972Z",
     "shell.execute_reply.started": "2024-12-04T18:33:45.063143Z"
    },
    "trusted": true
   },
   "outputs": [
    {
     "name": "stdout",
     "output_type": "stream",
     "text": [
      "\u001b[1m10000/10000\u001b[0m \u001b[32m━━━━━━━━━━━━━━━━━━━━\u001b[0m\u001b[37m\u001b[0m \u001b[1m1798s\u001b[0m 180ms/step - accuracy: 0.9358 - loss: 0.1695\n"
     ]
    },
    {
     "data": {
      "text/plain": [
       "[0.1814611852169037, 0.930899977684021]"
      ]
     },
     "execution_count": 51,
     "metadata": {},
     "output_type": "execute_result"
    }
   ],
   "source": [
    "model.evaluate(x_train,y_train)"
   ]
  },
  {
   "cell_type": "code",
   "execution_count": 53,
   "metadata": {
    "execution": {
     "iopub.execute_input": "2024-12-04T19:14:25.511888Z",
     "iopub.status.busy": "2024-12-04T19:14:25.511538Z",
     "iopub.status.idle": "2024-12-04T19:21:55.756604Z",
     "shell.execute_reply": "2024-12-04T19:21:55.755582Z",
     "shell.execute_reply.started": "2024-12-04T19:14:25.511856Z"
    },
    "trusted": true
   },
   "outputs": [
    {
     "name": "stdout",
     "output_type": "stream",
     "text": [
      "\u001b[1m2500/2500\u001b[0m \u001b[32m━━━━━━━━━━━━━━━━━━━━\u001b[0m\u001b[37m\u001b[0m \u001b[1m449s\u001b[0m 179ms/step\n"
     ]
    }
   ],
   "source": [
    "y_pred = model.predict(x_test).argmax(axis=-1)"
   ]
  },
  {
   "cell_type": "code",
   "execution_count": 56,
   "metadata": {
    "execution": {
     "iopub.execute_input": "2024-12-04T19:23:46.810213Z",
     "iopub.status.busy": "2024-12-04T19:23:46.809852Z",
     "iopub.status.idle": "2024-12-04T19:23:46.847433Z",
     "shell.execute_reply": "2024-12-04T19:23:46.846512Z",
     "shell.execute_reply.started": "2024-12-04T19:23:46.810174Z"
    },
    "trusted": true
   },
   "outputs": [
    {
     "name": "stdout",
     "output_type": "stream",
     "text": [
      "              precision    recall  f1-score   support\n",
      "\n",
      "     Class 0       0.92      0.89      0.91     40000\n",
      "     Class 1       0.90      0.92      0.91     40000\n",
      "\n",
      "    accuracy                           0.91     80000\n",
      "   macro avg       0.91      0.91      0.91     80000\n",
      "weighted avg       0.91      0.91      0.91     80000\n",
      "\n"
     ]
    }
   ],
   "source": [
    "from sklearn.metrics import classification_report, confusion_matrix\n",
    "import matplotlib.pyplot as plt\n",
    "import seaborn as sns\n",
    "\n",
    "classes_lb = ['Class 0', 'Class 1'] \n",
    "\n",
    "report = classification_report(y_test, y_pred, target_names=classes_lb)\n",
    "print(report)\n",
    "\n"
   ]
  },
  {
   "cell_type": "code",
   "execution_count": 57,
   "metadata": {
    "execution": {
     "iopub.execute_input": "2024-12-04T19:23:50.408281Z",
     "iopub.status.busy": "2024-12-04T19:23:50.407910Z",
     "iopub.status.idle": "2024-12-04T19:23:50.526823Z",
     "shell.execute_reply": "2024-12-04T19:23:50.525778Z",
     "shell.execute_reply.started": "2024-12-04T19:23:50.408246Z"
    },
    "trusted": true
   },
   "outputs": [
    {
     "data": {
      "image/png": "[encoded data removed]",
      "text/plain": [
       "<Figure size 1000x700 with 1 Axes>"
      ]
     },
     "metadata": {},
     "output_type": "display_data"
    }
   ],
   "source": [
    "disp = confusion_matrix(y_test, y_pred)\n",
    "disp.astype('int')\n",
    "df_cm = pd.DataFrame(disp, classes_lb, classes_lb)\n",
    "fig, ax = plt.subplots(figsize=(10,7))\n",
    "sns.heatmap(df_cm, annot=True, annot_kws={\"size\":12},ax=ax, cmap=\"YlOrBr\", fmt='g',cbar=False) #font\n",
    "plt.ylabel('Actual',fontsize=20)\n",
    "plt.xlabel('Predicted',fontsize=20)\n",
    "plt.show()\n"
   ]
  }
 ],
 "metadata": {
  "kaggle": {
   "accelerator": "gpu",
   "dataSources": [
    {
     "datasetId": 1340369,
     "sourceId": 2233682,
     "sourceType": "datasetVersion"
    }
   ],
   "dockerImageVersionId": 30805,
   "isGpuEnabled": true,
   "isInternetEnabled": true,
   "language": "python",
   "sourceType": "notebook"
  },
  "kernelspec": {
   "display_name": "Python 3",
   "language": "python",
   "name": "python3"
  },
  "language_info": {
   "codemirror_mode": {
    "name": "ipython",
    "version": 3
   },
   "file_extension": ".py",
   "mimetype": "text/x-python",
   "name": "python",
   "nbconvert_exporter": "python",
   "pygments_lexer": "ipython3",
   "version": "3.10.14"
  }
 },
 "nbformat": 4,
 "nbformat_minor": 4
}
